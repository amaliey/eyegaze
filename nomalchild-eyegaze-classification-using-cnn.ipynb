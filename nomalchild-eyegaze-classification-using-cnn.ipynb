{
 "cells": [
  {
   "cell_type": "code",
   "execution_count": 2,
   "metadata": {},
   "outputs": [
    {
     "data": {
      "text/plain": [
       "'2.3.0'"
      ]
     },
     "execution_count": 2,
     "metadata": {},
     "output_type": "execute_result"
    }
   ],
   "source": [
    "import numpy as np # linear algebra\n",
    "import pandas as pd # data processing, CSV file I/O (e.g. pd.read_csv)\n",
    "\n",
    "from tensorflow.keras.preprocessing.image import ImageDataGenerator\n",
    "from tensorflow.keras import Sequential\n",
    "from tensorflow.keras import layers\n",
    "from tensorflow.keras import regularizers\n",
    "from keras.optimizers import RMSprop, Adam, SGD, Adadelta\n",
    "from tensorflow.keras.utils import plot_model\n",
    "import matplotlib.pyplot as plt\n",
    "import seaborn as sns\n",
    "import os\n",
    "\n",
    "from datetime import datetime\n",
    "from packaging import version\n",
    "import tensorflow as tf\n",
    "from tensorflow import keras\n",
    "\n",
    "import tensorboard\n",
    "tensorboard.__version__\n"
   ]
  },
  {
   "cell_type": "code",
   "execution_count": 4,
   "metadata": {},
   "outputs": [
    {
     "name": "stdout",
     "output_type": "stream",
     "text": [
      "The tensorboard extension is already loaded. To reload it, use:\n",
      "  %reload_ext tensorboard\n"
     ]
    },
    {
     "name": "stderr",
     "output_type": "stream",
     "text": [
      "'rm' is not recognized as an internal or external command,\n",
      "operable program or batch file.\n"
     ]
    }
   ],
   "source": [
    "%load_ext tensorboard\n",
    "!rm -rf ./logs/"
   ]
  },
  {
   "cell_type": "code",
   "execution_count": 5,
   "metadata": {},
   "outputs": [],
   "source": [
    "base_dir = 'Output/NomalChildWorking/'\n",
    "train_dr = 'Eye dataset/'\n",
    "test_dr ='NomalChild/'\n",
    "pixels = 60\n",
    "colormode = 'grayscale'\n",
    "classmode = 'binary'"
   ]
  },
  {
   "cell_type": "code",
   "execution_count": 6,
   "metadata": {},
   "outputs": [
    {
     "name": "stdout",
     "output_type": "stream",
     "text": [
      "Found 14360 images belonging to 4 classes.\n",
      "Found 23 images belonging to 4 classes.\n"
     ]
    }
   ],
   "source": [
    "train_datagen = ImageDataGenerator()\n",
    "test_datagen = ImageDataGenerator()\n",
    "\n",
    "\"\"\"Load data with Ternsorflow image generator\"\"\"\n",
    "train_generator = train_datagen.flow_from_directory(train_dr,target_size=(pixels, pixels), color_mode=colormode, class_mode = classmode, batch_size = 20)\n",
    "test_generator = test_datagen.flow_from_directory(test_dr,target_size=(pixels, pixels), color_mode=colormode, class_mode = classmode, batch_size = 20)"
   ]
  },
  {
   "cell_type": "code",
   "execution_count": 7,
   "metadata": {},
   "outputs": [],
   "source": [
    "\"\"\"Construct the CNN model\"\"\"\n",
    "CNN_Model = Sequential([\n",
    "    layers.Conv2D(filters=16,kernel_size=(3,3),activation='relu', input_shape=(pixels,pixels,1)),\n",
    "    layers.MaxPooling2D(pool_size=(2, 2),strides=None,padding='valid'),\n",
    "    layers.Dropout(0.25),\n",
    "\n",
    "    layers.Conv2D(filters=16,kernel_size=(3,3),activation='relu'),\n",
    "    layers.MaxPooling2D(pool_size=(2, 2),strides=None,padding='valid'),\n",
    "    layers.Dropout(0.25),\n",
    "\n",
    "    layers.Conv2D(filters=16,kernel_size=(3,3),activation='relu'),\n",
    "    layers.MaxPooling2D(pool_size=(2, 2),strides=None,padding='valid'),\n",
    "    layers.Dropout(0.25),\n",
    "\n",
    "    layers.Flatten(),\n",
    "    \n",
    "    layers.Dense(400,activation='relu'),\n",
    "    layers.Dropout(0.25),\n",
    "    layers.Dense(4,activation='softmax') # Final Layer using Softmax\n",
    "    \n",
    "    ])"
   ]
  },
  {
   "cell_type": "code",
   "execution_count": 8,
   "metadata": {},
   "outputs": [],
   "source": [
    "\"\"\" COMPILE The Model \"\"\"\n",
    "CNN_Model.compile(optimizer='adam', loss = 'sparse_categorical_crossentropy',metrics = ['acc'])"
   ]
  },
  {
   "cell_type": "code",
   "execution_count": 9,
   "metadata": {},
   "outputs": [],
   "source": [
    "\"\"\"\"\"\" \"\"\"Define the Keras TensorBoard callback.\"\"\"\n",
    "logdir=\"logs/fit/\" + datetime.now().strftime(\"%Y%m%d-%H%M%S\")\n",
    "tensorboard_callback = keras.callbacks.TensorBoard(log_dir=logdir)"
   ]
  },
  {
   "cell_type": "code",
   "execution_count": 10,
   "metadata": {},
   "outputs": [
    {
     "name": "stdout",
     "output_type": "stream",
     "text": [
      "Epoch 1/10\n",
      "718/718 [==============================] - 273s 380ms/step - loss: 1.6195 - acc: 0.4985 - val_loss: 1.3555 - val_acc: 0.2609\n",
      "Epoch 2/10\n",
      "718/718 [==============================] - 33s 46ms/step - loss: 0.5425 - acc: 0.7857 - val_loss: 1.4620 - val_acc: 0.3913\n",
      "Epoch 3/10\n",
      "718/718 [==============================] - 28s 39ms/step - loss: 0.3460 - acc: 0.8780 - val_loss: 2.2321 - val_acc: 0.2174\n",
      "Epoch 4/10\n",
      "718/718 [==============================] - 28s 39ms/step - loss: 0.2553 - acc: 0.9134 - val_loss: 2.8402 - val_acc: 0.3043\n",
      "Epoch 5/10\n",
      "718/718 [==============================] - 30s 41ms/step - loss: 0.2231 - acc: 0.9235 - val_loss: 3.1404 - val_acc: 0.2174\n",
      "Epoch 6/10\n",
      "718/718 [==============================] - 30s 42ms/step - loss: 0.1933 - acc: 0.9345 - val_loss: 3.1056 - val_acc: 0.2174\n",
      "Epoch 7/10\n",
      "718/718 [==============================] - 31s 43ms/step - loss: 0.1671 - acc: 0.9459 - val_loss: 4.3663 - val_acc: 0.3043\n",
      "Epoch 8/10\n",
      "718/718 [==============================] - 31s 43ms/step - loss: 0.1537 - acc: 0.9492 - val_loss: 3.0221 - val_acc: 0.3043\n",
      "Epoch 9/10\n",
      "718/718 [==============================] - 31s 43ms/step - loss: 0.1521 - acc: 0.9510 - val_loss: 3.9047 - val_acc: 0.2609\n",
      "Epoch 10/10\n",
      "718/718 [==============================] - 31s 43ms/step - loss: 0.1424 - acc: 0.9529 - val_loss: 3.7943 - val_acc: 0.3913\n"
     ]
    }
   ],
   "source": [
    "\"\"\" FIT THE MODEL\"\"\"\n",
    "FITCNN= CNN_Model.fit(train_generator,validation_data = test_generator,epochs = 10,verbose = 1 )"
   ]
  },
  {
   "cell_type": "code",
   "execution_count": 11,
   "metadata": {},
   "outputs": [
    {
     "name": "stdout",
     "output_type": "stream",
     "text": [
      "WARNING:tensorflow:From C:\\Users\\Amali Gunasinghe\\Anaconda3\\lib\\site-packages\\tensorflow\\python\\training\\tracking\\tracking.py:111: Model.state_updates (from tensorflow.python.keras.engine.training) is deprecated and will be removed in a future version.\n",
      "Instructions for updating:\n",
      "This property should not be used in TensorFlow 2.0, as updates are applied automatically.\n",
      "WARNING:tensorflow:From C:\\Users\\Amali Gunasinghe\\Anaconda3\\lib\\site-packages\\tensorflow\\python\\training\\tracking\\tracking.py:111: Layer.updates (from tensorflow.python.keras.engine.base_layer) is deprecated and will be removed in a future version.\n",
      "Instructions for updating:\n",
      "This property should not be used in TensorFlow 2.0, as updates are applied automatically.\n",
      "INFO:tensorflow:Assets written to: Output/NomalChildWorking/assets\n",
      "Model: \"sequential\"\n",
      "_________________________________________________________________\n",
      "Layer (type)                 Output Shape              Param #   \n",
      "=================================================================\n",
      "conv2d (Conv2D)              (None, 58, 58, 16)        160       \n",
      "_________________________________________________________________\n",
      "max_pooling2d (MaxPooling2D) (None, 29, 29, 16)        0         \n",
      "_________________________________________________________________\n",
      "dropout (Dropout)            (None, 29, 29, 16)        0         \n",
      "_________________________________________________________________\n",
      "conv2d_1 (Conv2D)            (None, 27, 27, 16)        2320      \n",
      "_________________________________________________________________\n",
      "max_pooling2d_1 (MaxPooling2 (None, 13, 13, 16)        0         \n",
      "_________________________________________________________________\n",
      "dropout_1 (Dropout)          (None, 13, 13, 16)        0         \n",
      "_________________________________________________________________\n",
      "conv2d_2 (Conv2D)            (None, 11, 11, 16)        2320      \n",
      "_________________________________________________________________\n",
      "max_pooling2d_2 (MaxPooling2 (None, 5, 5, 16)          0         \n",
      "_________________________________________________________________\n",
      "dropout_2 (Dropout)          (None, 5, 5, 16)          0         \n",
      "_________________________________________________________________\n",
      "flatten (Flatten)            (None, 400)               0         \n",
      "_________________________________________________________________\n",
      "dense (Dense)                (None, 400)               160400    \n",
      "_________________________________________________________________\n",
      "dropout_3 (Dropout)          (None, 400)               0         \n",
      "_________________________________________________________________\n",
      "dense_1 (Dense)              (None, 4)                 1604      \n",
      "=================================================================\n",
      "Total params: 166,804\n",
      "Trainable params: 166,804\n",
      "Non-trainable params: 0\n",
      "_________________________________________________________________\n"
     ]
    }
   ],
   "source": [
    "\"\"\" SAVE THE MODEL\"\"\"\n",
    "CNN_Model.save(\n",
    "    base_dir, overwrite=True, include_optimizer=True, save_format='tf',\n",
    "    signatures=None, options=None\n",
    ")\n",
    "\n",
    "CNN_Model.save_weights(\n",
    "    base_dir, overwrite=True, save_format=None\n",
    ")\n",
    "\"\"\" CNN MODEL ARCHITECTURE\"\"\"\n",
    "CNN_Model.summary(\n",
    "    line_length=None, positions=None, print_fn=None\n",
    ")"
   ]
  },
  {
   "cell_type": "code",
   "execution_count": 15,
   "metadata": {
    "scrolled": true
   },
   "outputs": [
    {
     "name": "stdout",
     "output_type": "stream",
     "text": [
      "('Failed to import pydot. You must `pip install pydot` and install graphviz (https://graphviz.gitlab.io/download/), ', 'for `pydotprint` to work.')\n"
     ]
    },
    {
     "data": {
      "image/png": "[encoded data removed]",
      "text/plain": [
       "<Figure size 1728x576 with 2 Axes>"
      ]
     },
     "metadata": {
      "needs_background": "light"
     },
     "output_type": "display_data"
    }
   ],
   "source": [
    "\"\"\" PLOT THE ACCURACY AND LOSS \"\"\"\n",
    "plot_model(CNN_Model,to_file='Output/Working/model.png',show_shapes=True,show_layer_names=True, expand_nested=True)\n",
    "\n",
    "plt.figure(figsize=(24,8))\n",
    "plt.subplot(1,2,1)\n",
    "plt.plot(FITCNN.history[\"val_acc\"], label=\"validation_accuracy\", c=\"red\", linewidth=4)\n",
    "plt.plot(FITCNN.history[\"acc\"], label=\"training_accuracy\", c=\"green\", linewidth=4)\n",
    "plt.ylabel(\"Accuracy\")\n",
    "plt.xlabel(\"Number of Epochs\")\n",
    "plt.legend()\n",
    "plt.grid(True)\n",
    "\n",
    "plt.subplot(1,2,2)\n",
    "plt.plot(FITCNN.history[\"val_loss\"], label=\"validation_loss\", c=\"red\", linewidth=4)\n",
    "plt.plot(FITCNN.history[\"loss\"], label=\"training_loss\", c=\"green\", linewidth=4)\n",
    "plt.ylabel(\"Loss\")\n",
    "plt.xlabel(\"Number of Epochs\")\n",
    "plt.legend()\n",
    "plt.grid(True)\n",
    "\n",
    "plt.suptitle(\"ACC / LOSS\",fontsize=18)\n",
    "plt.show()\n"
   ]
  },
  {
   "cell_type": "code",
   "execution_count": 16,
   "metadata": {},
   "outputs": [
    {
     "data": {
      "text/plain": [
       "Reusing TensorBoard on port 6006 (pid 6532), started 1 day, 19:02:39 ago. (Use '!kill 6532' to kill it.)"
      ]
     },
     "metadata": {},
     "output_type": "display_data"
    },
    {
     "data": {
      "text/html": [
       "\n",
       "      <iframe id=\"tensorboard-frame-f8a0e14b1023fc4\" width=\"100%\" height=\"800\" frameborder=\"0\">\n",
       "      </iframe>\n",
       "      <script>\n",
       "        (function() {\n",
       "          const frame = document.getElementById(\"tensorboard-frame-f8a0e14b1023fc4\");\n",
       "          const url = new URL(\"/\", window.location);\n",
       "          const port = 6006;\n",
       "          if (port) {\n",
       "            url.port = port;\n",
       "          }\n",
       "          frame.src = url;\n",
       "        })();\n",
       "      </script>\n",
       "    "
      ],
      "text/plain": [
       "<IPython.core.display.HTML object>"
      ]
     },
     "metadata": {},
     "output_type": "display_data"
    }
   ],
   "source": [
    "%tensorboard --logdir logs"
   ]
  },
  {
   "cell_type": "code",
   "execution_count": null,
   "metadata": {},
   "outputs": [],
   "source": []
  }
 ],
 "metadata": {
  "kernelspec": {
   "display_name": "Python 3",
   "language": "python",
   "name": "python3"
  },
  "language_info": {
   "codemirror_mode": {
    "name": "ipython",
    "version": 3
   },
   "file_extension": ".py",
   "mimetype": "text/x-python",
   "name": "python",
   "nbconvert_exporter": "python",
   "pygments_lexer": "ipython3",
   "version": "3.8.3"
  }
 },
 "nbformat": 4,
 "nbformat_minor": 4
}
